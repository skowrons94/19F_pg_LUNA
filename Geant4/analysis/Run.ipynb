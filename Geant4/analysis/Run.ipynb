{
 "cells": [
  {
   "cell_type": "code",
   "execution_count": 1,
   "metadata": {},
   "outputs": [],
   "source": [
    "import os\n",
    "from tqdm import tqdm"
   ]
  },
  {
   "cell_type": "code",
   "execution_count": 2,
   "metadata": {},
   "outputs": [],
   "source": [
    "# Clear output folder\n",
    "os.system('rm output/* >/dev/null 2>&1')\n",
    "\n",
    "runs = [ \"19F_pg\", \"19F_pa\"]\n",
    "\n",
    "for run in runs:\n",
    "\n",
    "    # Run the simulation (ignore the output)\n",
    "    os.system('./G4_BGO -m mac/{}.mac >/dev/null 2>&1'.format( run))\n",
    "\n",
    "    # Move the output file\n",
    "    os.system('mv *.root output/')"
   ]
  }
 ],
 "metadata": {
  "kernelspec": {
   "display_name": "base",
   "language": "python",
   "name": "python3"
  },
  "language_info": {
   "codemirror_mode": {
    "name": "ipython",
    "version": 3
   },
   "file_extension": ".py",
   "mimetype": "text/x-python",
   "name": "python",
   "nbconvert_exporter": "python",
   "pygments_lexer": "ipython3",
   "version": "3.11.6"
  }
 },
 "nbformat": 4,
 "nbformat_minor": 2
}
