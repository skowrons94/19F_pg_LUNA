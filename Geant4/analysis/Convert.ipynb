{
 "cells": [
  {
   "cell_type": "code",
   "execution_count": 1,
   "metadata": {},
   "outputs": [
    {
     "name": "stdout",
     "output_type": "stream",
     "text": [
      "Welcome to JupyROOT 6.28/04\n"
     ]
    }
   ],
   "source": [
    "import ROOT\n",
    "\n",
    "from resolution import *\n",
    "from digitizer import *\n",
    "from pile_up import *\n",
    "\n",
    "from tqdm import tqdm\n",
    "\n",
    "runs = [ \"19F_pg\", \"19F_pa\" ]\n",
    "\n",
    "keV = 1e3\n",
    "\n",
    "a = 15\n",
    "energyCut1 = 0.1 * keV\n",
    "energyCut2 = 0.1 * keV\n",
    "energyCut3 = 0.1 * keV\n",
    "energyCut4 = 0.1 * keV\n",
    "energyCut5 = 0.1 * keV\n",
    "energyCut6 = 0.1 * keV\n",
    "\n",
    "probPU = 0.001\n",
    "energyBGOsumPU = 0\n",
    "\n",
    "rand = ROOT.TRandom3( )"
   ]
  },
  {
   "cell_type": "code",
   "execution_count": 2,
   "metadata": {},
   "outputs": [
    {
     "name": "stderr",
     "output_type": "stream",
     "text": [
      "100%|██████████| 1000000/1000000 [00:30<00:00, 32384.34it/s]\n",
      "100%|██████████| 1000000/1000000 [00:27<00:00, 36030.95it/s]\n"
     ]
    }
   ],
   "source": [
    "for run in runs:\n",
    "\n",
    "    inFile = ROOT.TFile( \"output/{}.root\".format(run) )\n",
    "\n",
    "    tree = inFile.Get( \"EdepBGO\" )\n",
    "\n",
    "    h1 = ROOT.TH1D( \"BGO1\",\"BGO1\", 9000, 0, 18000 )\n",
    "    h2 = ROOT.TH1D( \"BGO2\",\"BGO2\", 9000, 0, 18000 )\n",
    "    h3 = ROOT.TH1D( \"BGO3\",\"BGO3\", 9000, 0, 18000 )\n",
    "    h4 = ROOT.TH1D( \"BGO4\",\"BGO4\", 9000, 0, 18000 )\n",
    "    h5 = ROOT.TH1D( \"BGO5\",\"BGO5\", 9000, 0, 18000 )\n",
    "    h6 = ROOT.TH1D( \"BGO6\",\"BGO6\", 9000, 0, 18000 )\n",
    "    h7 = ROOT.TH1D( \"BGOsum\",\"BGOsum\", 9000, 0, 18000 )\n",
    "\n",
    "    for entryNum in tqdm( range( tree.GetEntries( ) ) ):\n",
    "        \n",
    "        tree.GetEntry( entryNum )\n",
    "        \n",
    "        energyBGO1 = getattr( tree, \"BGO1\" ) * keV\n",
    "        energyBGO2 = getattr( tree, \"BGO2\" ) * keV\n",
    "        energyBGO3 = getattr( tree, \"BGO3\" ) * keV\n",
    "        energyBGO4 = getattr( tree, \"BGO4\" ) * keV\n",
    "        energyBGO5 = getattr( tree, \"BGO5\" ) * keV\n",
    "        energyBGO6 = getattr( tree, \"BGO6\" ) * keV\n",
    "\n",
    "        if( energyBGO1 > 0 ): energyBGO1 = rand.Gaus( energyBGO1, resolution( energyBGO1, \"1\" ) )\n",
    "        if( energyBGO2 > 0 ): energyBGO2 = rand.Gaus( energyBGO2, resolution( energyBGO2, \"2\" ) )\n",
    "        if( energyBGO3 > 0 ): energyBGO3 = rand.Gaus( energyBGO3, resolution( energyBGO3, \"3\" ) )\n",
    "        if( energyBGO4 > 0 ): energyBGO4 = rand.Gaus( energyBGO4, resolution( energyBGO4, \"4\" ) )\n",
    "        if( energyBGO5 > 0 ): energyBGO5 = rand.Gaus( energyBGO5, resolution( energyBGO5, \"5\" ) )\n",
    "        if( energyBGO6 > 0 ): energyBGO6 = rand.Gaus( energyBGO6, resolution( energyBGO6, \"6\" ) )\n",
    "\n",
    "        if( trigger( energyBGO1, energyCut1, a ) ): energyBGO1 = 0\n",
    "        if( trigger( energyBGO2, energyCut2, a ) ): energyBGO2 = 0\n",
    "        if( trigger( energyBGO3, energyCut3, a ) ): energyBGO3 = 0\n",
    "        if( trigger( energyBGO4, energyCut4, a ) ): energyBGO4 = 0\n",
    "        if( trigger( energyBGO5, energyCut5, a ) ): energyBGO5 = 0\n",
    "        if( trigger( energyBGO6, energyCut6, a ) ): energyBGO6 = 0\n",
    "\n",
    "        energyBGOsum = energyBGO1 + energyBGO2 + energyBGO3 + energyBGO4 + energyBGO5 + energyBGO6\n",
    "\n",
    "        if( energyBGO1 != 0 ): h1.Fill( energyBGO1 )\n",
    "        if( energyBGO2 != 0 ): h2.Fill( energyBGO2 )\n",
    "        if( energyBGO3 != 0 ): h3.Fill( energyBGO3 )\n",
    "        if( energyBGO4 != 0 ): h4.Fill( energyBGO4 )\n",
    "        if( energyBGO5 != 0 ): h5.Fill( energyBGO5 )\n",
    "        if( energyBGO6 != 0 ): h6.Fill( energyBGO6 )\n",
    "    \n",
    "        if( energyBGOsum != 0 ):\n",
    "            if( pile_up( probPU ) ): energyBGOsumPU += energyBGOsum\n",
    "            else: \n",
    "                h7.Fill( energyBGOsum + energyBGOsumPU )\n",
    "                energyBGOsumPU = 0\n",
    "\n",
    "    outHistFile = ROOT.TFile.Open( \"histograms/{}.root\".format(run), \"RECREATE\" )\n",
    "\n",
    "    outHistFile.cd( )\n",
    "\n",
    "    h1.Write( )\n",
    "    h2.Write( )\n",
    "    h3.Write( )\n",
    "    h4.Write( )\n",
    "    h5.Write( )\n",
    "    h6.Write( )\n",
    "    h7.Write( )\n",
    "\n",
    "    outHistFile.Close( )\n",
    "\n",
    "    inFile.Close( )"
   ]
  }
 ],
 "metadata": {
  "kernelspec": {
   "display_name": "base",
   "language": "python",
   "name": "python3"
  },
  "language_info": {
   "codemirror_mode": {
    "name": "ipython",
    "version": 3
   },
   "file_extension": ".py",
   "mimetype": "text/x-python",
   "name": "python",
   "nbconvert_exporter": "python",
   "pygments_lexer": "ipython3",
   "version": "3.11.6"
  }
 },
 "nbformat": 4,
 "nbformat_minor": 2
}
